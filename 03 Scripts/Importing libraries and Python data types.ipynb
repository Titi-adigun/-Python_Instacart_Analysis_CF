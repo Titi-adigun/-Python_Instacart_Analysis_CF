{
 "cells": [
  {
   "cell_type": "markdown",
   "id": "50984dbb",
   "metadata": {},
   "source": [
    "# 01. Importing libraries"
   ]
  },
  {
   "cell_type": "code",
   "execution_count": 6,
   "id": "f56bf150",
   "metadata": {},
   "outputs": [],
   "source": [
    "# Import libraries\n",
    "import pandas as pd\n",
    "import numpy as np\n",
    "import os"
   ]
  },
  {
   "cell_type": "markdown",
   "id": "76c31c13",
   "metadata": {},
   "source": [
    "## 02. Data types"
   ]
  },
  {
   "cell_type": "code",
   "execution_count": 2,
   "id": "c619c69d",
   "metadata": {},
   "outputs": [],
   "source": [
    "x = 50"
   ]
  },
  {
   "cell_type": "code",
   "execution_count": 3,
   "id": "c64ae887",
   "metadata": {},
   "outputs": [],
   "source": [
    "y=2"
   ]
  },
  {
   "cell_type": "code",
   "execution_count": 4,
   "id": "8b0e0385",
   "metadata": {},
   "outputs": [],
   "source": [
    "z = 25"
   ]
  },
  {
   "cell_type": "code",
   "execution_count": 5,
   "id": "0f24b079",
   "metadata": {},
   "outputs": [
    {
     "data": {
      "text/plain": [
       "100"
      ]
     },
     "execution_count": 5,
     "metadata": {},
     "output_type": "execute_result"
    }
   ],
   "source": [
    "x + z + z"
   ]
  },
  {
   "cell_type": "code",
   "execution_count": 6,
   "id": "7d42fa6e",
   "metadata": {},
   "outputs": [
    {
     "data": {
      "text/plain": [
       "100"
      ]
     },
     "execution_count": 6,
     "metadata": {},
     "output_type": "execute_result"
    }
   ],
   "source": [
    "x + x + x -z - z"
   ]
  },
  {
   "cell_type": "code",
   "execution_count": 7,
   "id": "c7dff177",
   "metadata": {},
   "outputs": [
    {
     "data": {
      "text/plain": [
       "100"
      ]
     },
     "execution_count": 7,
     "metadata": {},
     "output_type": "execute_result"
    }
   ],
   "source": [
    "x + x"
   ]
  },
  {
   "cell_type": "code",
   "execution_count": 8,
   "id": "9ba4017f",
   "metadata": {},
   "outputs": [],
   "source": [
    "p = 100.40"
   ]
  },
  {
   "cell_type": "code",
   "execution_count": 9,
   "id": "9a306167",
   "metadata": {},
   "outputs": [],
   "source": [
    "q = 50.20"
   ]
  },
  {
   "cell_type": "code",
   "execution_count": 10,
   "id": "6cfbda5d",
   "metadata": {},
   "outputs": [
    {
     "data": {
      "text/plain": [
       "2.0"
      ]
     },
     "execution_count": 10,
     "metadata": {},
     "output_type": "execute_result"
    }
   ],
   "source": [
    "p / q"
   ]
  },
  {
   "cell_type": "code",
   "execution_count": 11,
   "id": "1a0ec4b4",
   "metadata": {},
   "outputs": [],
   "source": [
    "a = 'Hello there, '"
   ]
  },
  {
   "cell_type": "code",
   "execution_count": 12,
   "id": "75a7b6b2",
   "metadata": {},
   "outputs": [],
   "source": [
    "b = 'how are you.'"
   ]
  },
  {
   "cell_type": "code",
   "execution_count": 13,
   "id": "2e92436c",
   "metadata": {},
   "outputs": [
    {
     "data": {
      "text/plain": [
       "'Hello there, how are you.'"
      ]
     },
     "execution_count": 13,
     "metadata": {},
     "output_type": "execute_result"
    }
   ],
   "source": [
    "a + b"
   ]
  },
  {
   "cell_type": "code",
   "execution_count": 14,
   "id": "f6cc25f5",
   "metadata": {},
   "outputs": [],
   "source": [
    "c = 'I am loving this coding, '"
   ]
  },
  {
   "cell_type": "code",
   "execution_count": 15,
   "id": "76c56ee9",
   "metadata": {},
   "outputs": [],
   "source": [
    "d = 'I hope it stays being interesting.'"
   ]
  },
  {
   "cell_type": "code",
   "execution_count": 16,
   "id": "2633293c",
   "metadata": {},
   "outputs": [
    {
     "data": {
      "text/plain": [
       "'I am loving this coding, I hope it stays being interesting.'"
      ]
     },
     "execution_count": 16,
     "metadata": {},
     "output_type": "execute_result"
    }
   ],
   "source": [
    "c + d"
   ]
  },
  {
   "cell_type": "code",
   "execution_count": 17,
   "id": "eff1d0f3",
   "metadata": {},
   "outputs": [],
   "source": [
    "e = 'Holi'"
   ]
  },
  {
   "cell_type": "code",
   "execution_count": 18,
   "id": "2e620da6",
   "metadata": {},
   "outputs": [],
   "source": [
    "f = 'day'"
   ]
  },
  {
   "cell_type": "code",
   "execution_count": 19,
   "id": "5873e15d",
   "metadata": {},
   "outputs": [
    {
     "data": {
      "text/plain": [
       "'Holiday'"
      ]
     },
     "execution_count": 19,
     "metadata": {},
     "output_type": "execute_result"
    }
   ],
   "source": [
    "e + f\n",
    "\n"
   ]
  },
  {
   "cell_type": "code",
   "execution_count": 20,
   "id": "9a8bc787",
   "metadata": {},
   "outputs": [],
   "source": [
    "g = 'This weekend will be free for me, '"
   ]
  },
  {
   "cell_type": "code",
   "execution_count": 21,
   "id": "9bdc7b11",
   "metadata": {},
   "outputs": [],
   "source": [
    "h = 'I wish I can go shopping.'"
   ]
  },
  {
   "cell_type": "code",
   "execution_count": 22,
   "id": "15df26ea",
   "metadata": {},
   "outputs": [
    {
     "data": {
      "text/plain": [
       "'This weekend will be free for me, I wish I can go shopping.'"
      ]
     },
     "execution_count": 22,
     "metadata": {},
     "output_type": "execute_result"
    }
   ],
   "source": [
    "g + h\n"
   ]
  },
  {
   "cell_type": "code",
   "execution_count": 23,
   "id": "f07d4f85",
   "metadata": {},
   "outputs": [],
   "source": [
    "i = 'Hi, '"
   ]
  },
  {
   "cell_type": "code",
   "execution_count": 24,
   "id": "68bf6838",
   "metadata": {},
   "outputs": [
    {
     "data": {
      "text/plain": [
       "'Hi, Hi, Hi, Hi, Hi, Hi, Hi, Hi, Hi, Hi, Hi, Hi, Hi, Hi, Hi, Hi, Hi, Hi, Hi, Hi, Hi, Hi, Hi, Hi, Hi, Hi, Hi, Hi, Hi, Hi, Hi, Hi, Hi, Hi, Hi, Hi, Hi, Hi, Hi, Hi, Hi, Hi, Hi, Hi, Hi, Hi, Hi, Hi, Hi, Hi, Hi, Hi, Hi, Hi, Hi, Hi, Hi, Hi, Hi, Hi, Hi, Hi, Hi, Hi, Hi, Hi, Hi, Hi, Hi, Hi, Hi, Hi, Hi, Hi, Hi, Hi, Hi, Hi, Hi, Hi, Hi, Hi, Hi, Hi, Hi, Hi, Hi, Hi, Hi, Hi, Hi, Hi, Hi, Hi, Hi, Hi, Hi, Hi, Hi, Hi, '"
      ]
     },
     "execution_count": 24,
     "metadata": {},
     "output_type": "execute_result"
    }
   ],
   "source": [
    "i * 100"
   ]
  },
  {
   "cell_type": "code",
   "execution_count": null,
   "id": "3ff6c084",
   "metadata": {},
   "outputs": [],
   "source": []
  }
 ],
 "metadata": {
  "kernelspec": {
   "display_name": "Python 3 (ipykernel)",
   "language": "python",
   "name": "python3"
  },
  "language_info": {
   "codemirror_mode": {
    "name": "ipython",
    "version": 3
   },
   "file_extension": ".py",
   "mimetype": "text/x-python",
   "name": "python",
   "nbconvert_exporter": "python",
   "pygments_lexer": "ipython3",
   "version": "3.9.13"
  }
 },
 "nbformat": 4,
 "nbformat_minor": 5
}
